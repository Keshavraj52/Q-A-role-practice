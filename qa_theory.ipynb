{
 "cells": [
  {
   "cell_type": "markdown",
   "id": "a61aa6de",
   "metadata": {},
   "source": []
  },
  {
   "cell_type": "markdown",
   "id": "24d764fe",
   "metadata": {},
   "source": [
    "web driver is one of the component of selenium \n",
    "webdriver is module\n",
    "\n",
    "firefox browser --- firefox()\n",
    "chrome browser--- chrome()\n",
    "edge --- edge()\n",
    "\n",
    "webdriver is api "
   ]
  },
  {
   "cell_type": "markdown",
   "id": "dc5a669b",
   "metadata": {},
   "source": [
    "## Locator\n",
    "\n",
    "identify element: we use locator to identify element\n",
    "action \n",
    "\n",
    "\n",
    "\n",
    "\n",
    "locators type \n",
    "1) built in locator:--->\n",
    "id \n",
    "name\n",
    "linked text, partial linked text\n",
    "class name\n",
    "tagname\n",
    "\n",
    "2) customized locators:--->\n",
    "CSS Selector:->\n",
    "  tag and id \n",
    "  tag and class\n",
    "  tag and attribute\n",
    "  tag, class and attribute\n",
    "\n",
    "Xpath->\n",
    " Absolute Xpath\n",
    " relative Xpath\n"
   ]
  },
  {
   "cell_type": "markdown",
   "id": "66d1cad8",
   "metadata": {},
   "source": [
    "we cannot see directly Xpath\n",
    "we use the tools to find the xpath\n",
    "\n",
    "href:- hyperlink reference\n",
    "\n"
   ]
  },
  {
   "cell_type": "markdown",
   "id": "87901add",
   "metadata": {},
   "source": []
  }
 ],
 "metadata": {
  "language_info": {
   "name": "python"
  }
 },
 "nbformat": 4,
 "nbformat_minor": 5
}
