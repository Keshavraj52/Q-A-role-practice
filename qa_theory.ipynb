{
 "cells": [
  {
   "cell_type": "markdown",
   "id": "24d764fe",
   "metadata": {},
   "source": [
    "web driver is one of the component of selenium \n",
    "webdriver is module\n",
    "\n",
    "firefox browser --- firefox()\n",
    "chrome browser--- chrome()\n",
    "edge --- edge()\n",
    "\n",
    "webdriver is api "
   ]
  }
 ],
 "metadata": {
  "language_info": {
   "name": "python"
  }
 },
 "nbformat": 4,
 "nbformat_minor": 5
}
